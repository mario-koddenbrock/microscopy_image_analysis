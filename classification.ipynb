{
 "cells": [
  {
   "metadata": {},
   "cell_type": "markdown",
   "source": "# Bacteria Image Classification\n",
   "id": "2bb0d9acb41b971e"
  },
  {
   "metadata": {
    "ExecuteTime": {
     "end_time": "2024-10-01T10:21:14.779554Z",
     "start_time": "2024-10-01T10:21:14.665366Z"
    }
   },
   "cell_type": "code",
   "source": [
    "import os\n",
    "\n",
    "from datasets import DatasetDownloader, classification_datasets\n",
    "\n",
    "%load_ext autoreload\n",
    "%autoreload 2"
   ],
   "id": "32bf1435777c2730",
   "outputs": [],
   "execution_count": 1
  },
  {
   "metadata": {},
   "cell_type": "markdown",
   "source": "### Download the DIBaS dataset from https://github.com/gallardorafael/DIBaS-Dataset\n",
   "id": "ecdc495755500fcb"
  },
  {
   "cell_type": "code",
   "id": "initial_id",
   "metadata": {
    "collapsed": true,
    "ExecuteTime": {
     "end_time": "2024-10-01T10:28:25.284293Z",
     "start_time": "2024-10-01T10:21:14.785804Z"
    }
   },
   "source": [
    "downloader = DatasetDownloader(classification_datasets, download_dir=os.path.join('datasets', 'Classification'))\n",
    "downloader.download_and_extract()"
   ],
   "outputs": [
    {
     "name": "stdout",
     "output_type": "stream",
     "text": [
      "Downloading Acinetobacter baumanii from https://doctoral.matinf.uj.edu.pl/database/dibas/Acinetobacter.baumanii.zip\n",
      "Extracted Acinetobacter.baumanii.zip into datasets/Classification/Acinetobacter.baumanii\n",
      "Downloading Actinomyces israelii from https://doctoral.matinf.uj.edu.pl/database/dibas/Actinomyces.israeli.zip\n",
      "Extracted Actinomyces.israeli.zip into datasets/Classification/Actinomyces.israeli\n",
      "Downloading Bacteroides fragilis from https://doctoral.matinf.uj.edu.pl/database/dibas/Bacteroides.fragilis.zip\n",
      "Extracted Bacteroides.fragilis.zip into datasets/Classification/Bacteroides.fragilis\n",
      "Downloading Bifidobacterium spp. from https://doctoral.matinf.uj.edu.pl/database/dibas/Bifidobacterium.spp.zip\n",
      "Extracted Bifidobacterium.spp.zip into datasets/Classification/Bifidobacterium.spp\n",
      "Downloading Candida albicans from https://doctoral.matinf.uj.edu.pl/database/dibas/Candida.albicans.zip\n",
      "Extracted Candida.albicans.zip into datasets/Classification/Candida.albicans\n",
      "Downloading Clostridium perfringens from https://doctoral.matinf.uj.edu.pl/database/dibas/Clostridium.perfringens.zip\n",
      "Extracted Clostridium.perfringens.zip into datasets/Classification/Clostridium.perfringens\n",
      "Downloading Enterococcus faecium from https://doctoral.matinf.uj.edu.pl/database/dibas/Enterococcus.faecium.zip\n",
      "Extracted Enterococcus.faecium.zip into datasets/Classification/Enterococcus.faecium\n",
      "Downloading Enterococcus faecalis from https://doctoral.matinf.uj.edu.pl/database/dibas/Enterococcus.faecalis.zip\n",
      "Extracted Enterococcus.faecalis.zip into datasets/Classification/Enterococcus.faecalis\n",
      "Downloading Escherichia coli from https://doctoral.matinf.uj.edu.pl/database/dibas/Escherichia.coli.zip\n",
      "Extracted Escherichia.coli.zip into datasets/Classification/Escherichia.coli\n",
      "Downloading Fusobacterium spp. from https://doctoral.matinf.uj.edu.pl/database/dibas/Fusobacterium.zip\n",
      "Extracted Fusobacterium.zip into datasets/Classification/Fusobacterium\n",
      "Downloading Lactobacillus casei from https://doctoral.matinf.uj.edu.pl/database/dibas/Lactobacillus.casei.zip\n",
      "Extracted Lactobacillus.casei.zip into datasets/Classification/Lactobacillus.casei\n",
      "Downloading Lactobacillus crispatus from https://doctoral.matinf.uj.edu.pl/database/dibas/Lactobacillus.crispatus.zip\n",
      "Extracted Lactobacillus.crispatus.zip into datasets/Classification/Lactobacillus.crispatus\n",
      "Downloading Lactobacillus delbrueckii from https://doctoral.matinf.uj.edu.pl/database/dibas/Lactobacillus.delbrueckii.zip\n",
      "Extracted Lactobacillus.delbrueckii.zip into datasets/Classification/Lactobacillus.delbrueckii\n",
      "Downloading Lactobacillus gasseri from https://doctoral.matinf.uj.edu.pl/database/dibas/Lactobacillus.gasseri.zip\n",
      "Extracted Lactobacillus.gasseri.zip into datasets/Classification/Lactobacillus.gasseri\n",
      "Downloading Lactobacillus jehnsenii from https://doctoral.matinf.uj.edu.pl/database/dibas/Lactobacillus.jehnsenii.zip\n",
      "Extracted Lactobacillus.jehnsenii.zip into datasets/Classification/Lactobacillus.jehnsenii\n",
      "Downloading Lactobacillus johnsonii from https://doctoral.matinf.uj.edu.pl/database/dibas/Lactobacillus.johnsonii.zip\n",
      "Extracted Lactobacillus.johnsonii.zip into datasets/Classification/Lactobacillus.johnsonii\n",
      "Downloading Lactobacillus paracasei from https://doctoral.matinf.uj.edu.pl/database/dibas/Lactobacillus.paracasei.zip\n",
      "Extracted Lactobacillus.paracasei.zip into datasets/Classification/Lactobacillus.paracasei\n",
      "Downloading Lactobacillus plantaru from https://doctoral.matinf.uj.edu.pl/database/dibas/Lactobacillus.plantarum.zip\n",
      "Extracted Lactobacillus.plantarum.zip into datasets/Classification/Lactobacillus.plantarum\n",
      "Downloading Lactobacillus reuteri from https://doctoral.matinf.uj.edu.pl/database/dibas/Lactobacillus.reuteri.zip\n",
      "Extracted Lactobacillus.reuteri.zip into datasets/Classification/Lactobacillus.reuteri\n",
      "Downloading Lactobacillus rhamnosus from https://doctoral.matinf.uj.edu.pl/database/dibas/Lactobacillus.rhamnosus.zip\n",
      "Extracted Lactobacillus.rhamnosus.zip into datasets/Classification/Lactobacillus.rhamnosus\n",
      "Downloading Lactobacillus salivarius from https://doctoral.matinf.uj.edu.pl/database/dibas/Lactobacillus.salivarius.zip\n",
      "Extracted Lactobacillus.salivarius.zip into datasets/Classification/Lactobacillus.salivarius\n",
      "Downloading Listeria monocytogenes from https://doctoral.matinf.uj.edu.pl/database/dibas/Listeria.monocytogenes.zip\n",
      "Extracted Listeria.monocytogenes.zip into datasets/Classification/Listeria.monocytogenes\n",
      "Downloading Micrococcus spp. from https://doctoral.matinf.uj.edu.pl/database/dibas/Micrococcus.spp.zip\n",
      "Extracted Micrococcus.spp.zip into datasets/Classification/Micrococcus.spp\n",
      "Downloading Neisseria gonorrhoeae from https://doctoral.matinf.uj.edu.pl/database/dibas/Neisseria.gonorrhoeae.zip\n",
      "Extracted Neisseria.gonorrhoeae.zip into datasets/Classification/Neisseria.gonorrhoeae\n",
      "Downloading Porphyromonas gingivalis from https://doctoral.matinf.uj.edu.pl/database/dibas/Porfyromonas.gingivalis.zip\n",
      "Extracted Porfyromonas.gingivalis.zip into datasets/Classification/Porfyromonas.gingivalis\n",
      "Downloading Propionibacterium acnes from https://doctoral.matinf.uj.edu.pl/database/dibas/Propionibacterium.acnes.zip\n",
      "Extracted Propionibacterium.acnes.zip into datasets/Classification/Propionibacterium.acnes\n",
      "Downloading Proteus spp. from https://doctoral.matinf.uj.edu.pl/database/dibas/Proteus.zip\n",
      "Extracted Proteus.zip into datasets/Classification/Proteus\n",
      "Downloading Pseudomonas aeruginosa from https://doctoral.matinf.uj.edu.pl/database/dibas/Pseudomonas.aeruginosa.zip\n",
      "Extracted Pseudomonas.aeruginosa.zip into datasets/Classification/Pseudomonas.aeruginosa\n",
      "Downloading Staphylococcus aureus from https://doctoral.matinf.uj.edu.pl/database/dibas/Staphylococcus.aureus.zip\n",
      "Extracted Staphylococcus.aureus.zip into datasets/Classification/Staphylococcus.aureus\n",
      "Downloading Staphylococcus epidermidis from https://doctoral.matinf.uj.edu.pl/database/dibas/Staphylococcus.epidermidis.zip\n",
      "Extracted Staphylococcus.epidermidis.zip into datasets/Classification/Staphylococcus.epidermidis\n",
      "Downloading Staphylococcus saprophiticus from https://doctoral.matinf.uj.edu.pl/database/dibas/Staphylococcus.saprophiticus.zip\n",
      "Extracted Staphylococcus.saprophiticus.zip into datasets/Classification/Staphylococcus.saprophiticus\n",
      "Downloading Streptococcus agalactiae from https://doctoral.matinf.uj.edu.pl/database/dibas/Streptococcus.agalactiae.zip\n",
      "Extracted Streptococcus.agalactiae.zip into datasets/Classification/Streptococcus.agalactiae\n",
      "Downloading Veionella spp. from https://doctoral.matinf.uj.edu.pl/database/dibas/Veionella.zip\n",
      "Extracted Veionella.zip into datasets/Classification/Veionella\n",
      "Checking for corrupt images...\n"
     ]
    },
    {
     "name": "stderr",
     "output_type": "stream",
     "text": [
      "/Users/koddenbrock/Repository/microscopy_image_analysis/.env/lib/python3.11/site-packages/rasterio/__init__.py:355: NotGeoreferencedWarning: Dataset has no geotransform, gcps, or rpcs. The identity matrix will be returned.\n",
      "  dataset = DatasetReader(path, driver=driver, sharing=sharing, **kwargs)\n"
     ]
    },
    {
     "name": "stdout",
     "output_type": "stream",
     "text": [
      "Corrupt image found and deleted: datasets/Classification/Micrococcus.spp/Micrococcus.spp_0023.tif\n",
      "Corrupt image found and deleted: datasets/Classification/Micrococcus.spp/Micrococcus.spp_0021.tif\n",
      "Corrupt image found and deleted: datasets/Classification/Listeria.monocytogenes/Listeria.monocytogenes_0023.tif\n",
      "Deleted 3 corrupt image(s).\n"
     ]
    }
   ],
   "execution_count": 2
  }
 ],
 "metadata": {
  "kernelspec": {
   "display_name": "Python 3",
   "language": "python",
   "name": "python3"
  },
  "language_info": {
   "codemirror_mode": {
    "name": "ipython",
    "version": 2
   },
   "file_extension": ".py",
   "mimetype": "text/x-python",
   "name": "python",
   "nbconvert_exporter": "python",
   "pygments_lexer": "ipython2",
   "version": "2.7.6"
  }
 },
 "nbformat": 4,
 "nbformat_minor": 5
}
